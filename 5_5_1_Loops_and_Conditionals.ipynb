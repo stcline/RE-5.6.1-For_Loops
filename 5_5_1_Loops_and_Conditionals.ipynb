{
  "cells": [
    {
      "cell_type": "markdown",
      "metadata": {
        "id": "view-in-github",
        "colab_type": "text"
      },
      "source": [
        "<a href=\"https://colab.research.google.com/github/stcline/-RE-5.5.1-Python_Loops_and_Conditionals/blob/main/5_5_1_Loops_and_Conditionals.ipynb\" target=\"_parent\"><img src=\"https://colab.research.google.com/assets/colab-badge.svg\" alt=\"Open In Colab\"/></a>"
      ]
    },
    {
      "cell_type": "markdown",
      "metadata": {
        "id": "1-Yt-jyskbYU"
      },
      "source": [
        "# 3. Loops, Loops, Loops, Loops...\n",
        "## 3.1 Introduction\n",
        "(Our final lesson before we get into interacting with human input. Can't wait, can you?)\n",
        "\n",
        "Just imagine you needed a program to do something 20 times. What would you do? You could copy and paste the code 20 times, and have a virtually unreadable program, not to mention slow and pointless. Or, you could tell the computer to repeat a bit of code between point A and point B, until the time comes that you need it to stop. Such a thing is called a loop.\n",
        "\n",
        "## 3.2 The 'While' loop\n",
        "The following are examples of a type of loop, called the 'while' loop:\n"
      ]
    },
    {
      "cell_type": "code",
      "execution_count": null,
      "metadata": {
        "id": "-6igVC_1kbYV"
      },
      "outputs": [],
      "source": [
        "a = 0\n",
        "while a < 10:\n",
        "    a = a + 1\n",
        "    print(a)"
      ]
    },
    {
      "cell_type": "markdown",
      "metadata": {
        "id": "KpXxoP4dkbYW"
      },
      "source": [
        "How does this program work? Lets go through it in English:\n",
        "```\n",
        "'a' now equals 0\n",
        "As long as 'a' is less than 10, do the following:\n",
        "   Make 'a' one larger than what it already is.\n",
        "   Print on-screen what 'a' is now worth.\n",
        "```"
      ]
    },
    {
      "cell_type": "markdown",
      "metadata": {
        "id": "BEVKRSN4kbYX"
      },
      "source": [
        "What does this do? Let's go through what the computer would be 'thinking' when it is in the 'while' loop:"
      ]
    },
    {
      "cell_type": "markdown",
      "metadata": {
        "id": "5I2jwY8IkbYX"
      },
      "source": [
        "```\n",
        "#JUST GLANCE OVER THIS QUICKLY\n",
        "#(It looks fancy, but is really simple)\n",
        "Is 'a' less than 10? YES (its 0)\n",
        "Make 'a' one larger (now 1)\n",
        "print on-screen what 'a' is (1)\n",
        "\n",
        "Is 'a' less than 10? YES (its 1)\n",
        "Make 'a' one larger (now 2)\n",
        "print on-screen what 'a' is (2)\n",
        "\n",
        "Is 'a' less than 10? YES (its 2)\n",
        "Make 'a' one larger (now 3)\n",
        "print on-screen what 'a' is (3)\n",
        "\n",
        "Is 'a' less than 10? YES (its 3)\n",
        "Make 'a' one larger (now 4)\n",
        "print on-screen what 'a' is (4)\n",
        "\n",
        "Is 'a' less than 10? YES (its 4)\n",
        "Make 'a' one larger (now 5)\n",
        "print on-screen what 'a' is (5)\n",
        "\n",
        "Is 'a' less than 10? YES (its 5)\n",
        "Make 'a' one larger (now 6)\n",
        "print on-screen what 'a' is (6)\n",
        "\n",
        "Is 'a' less than 10? YES (its 6)\n",
        "Make 'a' one larger (now 7)\n",
        "print on-screen what 'a' is (7)\n",
        "\n",
        "Is 'a' less than 10? YES (are you still here?)\n",
        "Make 'a' one larger (now 8)\n",
        "print on-screen what 'a' is (8)\n",
        "\n",
        "Is 'a' less than 10? YES (its 8)\n",
        "Make 'a' one larger (now 9)\n",
        "print on-screen what 'a' is (9)\n",
        "\n",
        "Is 'a' less than 10? YES (its 9)\n",
        "Make 'a' one larger (now 10)\n",
        "print on-screen what 'a' is (10)\n",
        "\n",
        "Is 'a' less than 10? NO (its 10, therefore isn't less than 10)\n",
        "Don't do the loop\n",
        "There's no code left to do, so the program ends\n",
        "```"
      ]
    },
    {
      "cell_type": "markdown",
      "metadata": {
        "id": "wA-He4nYkbYY"
      },
      "source": [
        "So in short, try to think of it that way when you write 'while' loops. This is how you write them, by the way (syntax):\n",
        "```\n",
        "while {condition that the loop continues}:\n",
        "    {what to do in the loop}\n",
        "    {have it indented, usually four spaces}\n",
        "the code here is not looped\n",
        "because it isn't indented\n",
        "```"
      ]
    },
    {
      "cell_type": "markdown",
      "metadata": {
        "id": "b8mLpZwpkbYZ"
      },
      "source": [
        "Now try to understand this example and run to see if it is what you expected."
      ]
    },
    {
      "cell_type": "code",
      "execution_count": null,
      "metadata": {
        "id": "2Q9DG0b1kbYZ"
      },
      "outputs": [],
      "source": [
        "x = 10\n",
        "while x != 0:\n",
        "    print(x)\n",
        "    x = x - 1\n",
        "    print(\"wow, we've counted x down, and now it equals\", x)\n",
        "print(\"And now the loop has ended.\")"
      ]
    },
    {
      "cell_type": "markdown",
      "metadata": {
        "id": "j7cIthMakbYa"
      },
      "source": [
        "## 3.3 Boolean Expressions (Boolen... what?!?)\n",
        "What do you type in the area marked `{conditions that the loop continues}`? The answer is a boolean expression.<br>\n",
        "What? A forgotten concept for the non-math people here. Never mind, boolean expression just means a question that can be answered with a TRUE or FALSE response. For example, if you wanted to say your age is the same as the person next to you, you would type:\n",
        "\n",
        "`My age == the age of the person next to me`\n",
        "\n",
        "And the statement would be TRUE. If you were younger than the person opposite, you'd say:\n",
        "`My age < the age of the person opposite me`\n",
        "\n",
        "And the statement would be TRUE. If, however, you were to say the following, and the person opposite of you was younger than you:\n",
        "\n",
        "`My age < the age of the person opposite me`\n",
        "\n",
        "The statement would be FALSE - the truth is that it is the other way around. This is how a loop thinks - if the expression is true, keep looping. If it is false, don't loop. With this in mind, let's have a look at the operators (symbols that represent an action) that are involved in boolean expressions:<br>\n",
        "\n",
        "| Expression | Function  |\n",
        "|   :---:    |   :---:   |\n",
        "|    `<`     | Less than |\n",
        "| `<=` | Less than or equal to |\n",
        "| `>` | Greater than |\n",
        "| `>=` | Greater than or equal to |\n",
        "| `!=` | Not equal to |\n",
        "| `<>` | Not equal to (alternate) |\n",
        "| `==` | Equal to |\n",
        "\n",
        "Don't get `=` and `==` mixed up - the `=` operator makes what is on the left equal to what is on the right. the `==` operator says whether the thing on the left is the same as what is on the right, and returns True or False.\n",
        "\n",
        "\n"
      ]
    },
    {
      "cell_type": "markdown",
      "metadata": {
        "id": "HIre9BaMkbYa"
      },
      "source": [
        "## 3.4 Conditional Statements\n",
        "OK! We've (hopefully) covered 'while' loops. Now let's look at something a little different - conditionals.<br>\n",
        "Conditionals are where a section of code is only run if certain conditions are met. This is similar to the 'while' loop you just wrote, which only runs when x doesn't equal 0. However, Conditionals are only run once. The most common conditional in any program language, is the 'if' statement. Here is how it works:<br>\n",
        "```\n",
        "if {conditions to be met}:\n",
        "    {do this}\n",
        "    {and this}\n",
        "    {and this}\n",
        "{but this happens regardless}\n",
        "{because it isn't indented}\n",
        "```\n",
        "<br>\n",
        "Now some examples in Python:"
      ]
    },
    {
      "cell_type": "code",
      "execution_count": null,
      "metadata": {
        "id": "HF3kXZq7kbYb"
      },
      "outputs": [],
      "source": [
        "#EXAMPLE 1\n",
        "y = 1\n",
        "if y == 1:\n",
        "    print(\"y still equals 1, I was just checking\")"
      ]
    },
    {
      "cell_type": "code",
      "execution_count": null,
      "metadata": {
        "id": "SHsH4X_qkbYb"
      },
      "outputs": [],
      "source": [
        "#EXAMPLE 2\n",
        "print(\"We will show the even numbers up to 20\")\n",
        "n = 1\n",
        "while n <= 20:\n",
        "    if n % 2 == 0:\n",
        "        print(n)\n",
        "    n = n + 1\n",
        "print(\"there, done.\")"
      ]
    },
    {
      "cell_type": "markdown",
      "metadata": {
        "id": "XFyXaCyckbYb"
      },
      "source": [
        "Example 2 there looks tricky. But all we have done is run an `if` statement every time the `while` loop runs. Remember that the `%` just means the remainder from a division - just checking that there is nothing left over if the number is divided by two - showing it is even. If it is even, it prints what `n` is."
      ]
    },
    {
      "cell_type": "markdown",
      "metadata": {
        "id": "Nhsz3Xj6kbYb"
      },
      "source": [
        "## 3.5 `else` and `elif` - When it Ain't True\n",
        "There are many ways you can use the `if` statement to deal with situations where your boolean expression ends up FALSE. They are `else` and `elif`.<br>\n",
        "`else` simply tells the computer what to do if the conditions of `if` aren't met. For example, read the following:"
      ]
    },
    {
      "cell_type": "code",
      "execution_count": null,
      "metadata": {
        "id": "pAdzMqZ6kbYc"
      },
      "outputs": [],
      "source": [
        "a = 1\n",
        "if a > 5:\n",
        "    print(\"This shouldn't happen.\")\n",
        "else:\n",
        "    print(\"This should happen.\")"
      ]
    },
    {
      "cell_type": "markdown",
      "metadata": {
        "id": "4VGKTqnYkbYc"
      },
      "source": [
        "`a` is not greater than five, therefore what is under `else` is done.\n",
        "\n",
        "`elif` is just a shortened way of saying `else if`. When the `if` statement fails to be true, `elif` will do what is under it IF the conditions are met. For example:"
      ]
    },
    {
      "cell_type": "code",
      "execution_count": null,
      "metadata": {
        "id": "N7FAsANvkbYc"
      },
      "outputs": [],
      "source": [
        "z = 4\n",
        "if z > 70:\n",
        "    print(\"Something is very wrong\")\n",
        "elif z < 7:\n",
        "    print(\"This is normal\")"
      ]
    },
    {
      "cell_type": "markdown",
      "metadata": {
        "id": "to_9YU8_kbYc"
      },
      "source": [
        "The `if` statement, along with `else` and `elif` follow this form:\n",
        "```Python\n",
        "if {conditions}:\n",
        "    {run this code}\n",
        "elif {conditions}:\n",
        "    {run this code}\n",
        "elif {conditions}:\n",
        "    {run this code}\n",
        "else:\n",
        "    {run this code}\n",
        "#You can have as many or as little elif statements as you need\n",
        "#anywhere from zero to the sky.\n",
        "#You can have at most one else statement\n",
        "#and only after all other ifs and elifs.\n",
        "```"
      ]
    },
    {
      "cell_type": "markdown",
      "metadata": {
        "id": "x08tdMgKkbYd"
      },
      "source": [
        "***One of the most important points to remember is that you MUST have a colon `:` at the end of every line with an `if`, `elif`, `else` or `while` in it.***"
      ]
    },
    {
      "cell_type": "markdown",
      "metadata": {
        "id": "aFdYiM28kbYd"
      },
      "source": [
        "## 3.6 Indentation\n",
        "One other point is that the code to be executed if the conditions are met, MUST BE INDENTED. That means that if you want to loop the next five lines with a `while` loop, you must put a set number of spaces at the beginning of each of the next five lines. This is good programming practice in any language, but Python requires that you do it. Here is an example of both of the above points:"
      ]
    },
    {
      "cell_type": "code",
      "execution_count": null,
      "metadata": {
        "id": "4p_WxfNWkbYd"
      },
      "outputs": [],
      "source": [
        "a = 10\n",
        "while a > 0:\n",
        "    print(a)\n",
        "    if a > 5:\n",
        "        print(\"Big number!\")\n",
        "    elif a % 2 != 0:\n",
        "        print(\"This is an odd number\")\n",
        "        print(\"It isn't greater than five, either\")\n",
        "    else:\n",
        "        print(\"this number isn't greater than 5\")\n",
        "        print(\"nor is it odd\")\n",
        "        print(\"feeling special?\")\n",
        "    a = a - 1\n",
        "    print(\"we just made 'a' one less than what it was!\")\n",
        "    print(\"and unless a is not greater than 0, we'll do the loop again.\")\n",
        "print(\"well, it seems as if 'a' is now no bigger than 0!\")\n",
        "print(\"the loop is now over, and without furthur adue, so is this program!\")"
      ]
    },
    {
      "cell_type": "markdown",
      "metadata": {
        "id": "W5WrLjeXkbYd"
      },
      "source": [
        "Notice the three levels of indents there:\n",
        "1.\tEach line in the first level starts with no spaces. It is the main program, and will always execute.\n",
        "2.\tEach line in the second level starts with four spaces. When there is an `if` or loop on the first level, everything on the second level after that will be looped/'ifed', until a new line starts back on the first level again.\n",
        "3.\tEach line in the third level starts with eight spaces. When there is an `if` or loop on the second level, everything on the third level after that will be looped/'ifed', until a new line starts back on the second level again.\n",
        "4.\tThis goes on infinitely, until the person writing the program has an internal brain explosion, and cannot understand anything he/she has written."
      ]
    },
    {
      "cell_type": "markdown",
      "metadata": {
        "id": "BpT_cH3tkbYd"
      },
      "source": [
        "There is another loop, called the 'for' loop, but we will cover that in a later lesson, after we have learnt about lists.\n",
        "## 3.7 Conclusion\n",
        "And that is lesson 3! In lesson 4, we get into user interaction, and writing programs that actually serve a purpose. Can't wait!"
      ]
    }
  ],
  "metadata": {
    "kernelspec": {
      "display_name": "Python 3",
      "language": "python",
      "name": "python3"
    },
    "language_info": {
      "codemirror_mode": {
        "name": "ipython",
        "version": 3
      },
      "file_extension": ".py",
      "mimetype": "text/x-python",
      "name": "python",
      "nbconvert_exporter": "python",
      "pygments_lexer": "ipython3",
      "version": "3.6.5"
    },
    "colab": {
      "provenance": [],
      "include_colab_link": true
    }
  },
  "nbformat": 4,
  "nbformat_minor": 0
}